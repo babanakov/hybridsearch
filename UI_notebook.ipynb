{
 "cells": [
  {
   "cell_type": "code",
   "execution_count": 1,
   "metadata": {},
   "outputs": [],
   "source": [
    "from IPython.display import display\n",
    "import ipywidgets as widgets\n",
    "\n",
    "from src.hybrid_search import hybrid_search, rrf_fusion\n",
    "from src.reranker import rerank_results\n",
    "\n",
    "# UI elements\n",
    "query_box = widgets.Text(\n",
    "    value='',\n",
    "    placeholder='Type your search query here',\n",
    "    description='Query:',\n",
    "    layout=widgets.Layout(width='100%')\n",
    ")\n",
    "\n",
    "user_slider = widgets.IntSlider(\n",
    "    value=1,\n",
    "    min=1,\n",
    "    max=10,\n",
    "    step=1,\n",
    "    description='User ID:'\n",
    ")\n",
    "\n",
    "output = widgets.Output()"
   ]
  },
  {
   "cell_type": "code",
   "execution_count": 2,
   "metadata": {},
   "outputs": [],
   "source": [
    "def run_search(query, user_id):\n",
    "    dense_results, sparse_results = hybrid_search(query, user_id)\n",
    "    fused = rrf_fusion([dense_results, sparse_results])[:10]\n",
    "    \n",
    "    docs = [\n",
    "        hit.payload['title'] + ' ' + hit.payload.get('overview', '')\n",
    "        for hit in fused\n",
    "    ]\n",
    "    scores = rerank_results(query, docs)\n",
    "\n",
    "    with output:\n",
    "        output.clear_output()\n",
    "        for i, (hit, score) in enumerate(zip(fused, scores), 1):\n",
    "            print(f\"{i}. {hit.payload['title']} (Score: {score:.4f})\")\n"
   ]
  },
  {
   "cell_type": "code",
   "execution_count": null,
   "metadata": {},
   "outputs": [
    {
     "data": {
      "application/vnd.jupyter.widget-view+json": {
       "model_id": "8780137ce1ac4567a7d7e6281bc5a769",
       "version_major": 2,
       "version_minor": 0
      },
      "text/plain": [
       "VBox(children=(Text(value='', description='Query:', layout=Layout(width='100%'), placeholder='Type your search…"
      ]
     },
     "metadata": {},
     "output_type": "display_data"
    }
   ],
   "source": [
    "search_button = widgets.Button(description=\"🔍 Search\")\n",
    "\n",
    "def on_button_clicked(_):\n",
    "    run_search(query_box.value, user_slider.value)\n",
    "\n",
    "search_button.on_click(on_button_clicked)\n",
    "\n",
    "display(widgets.VBox([\n",
    "    query_box,\n",
    "    user_slider,\n",
    "    search_button,\n",
    "    output\n",
    "]))"
   ]
  }
 ],
 "metadata": {
  "kernelspec": {
   "display_name": ".venv",
   "language": "python",
   "name": "python3"
  },
  "language_info": {
   "codemirror_mode": {
    "name": "ipython",
    "version": 3
   },
   "file_extension": ".py",
   "mimetype": "text/x-python",
   "name": "python",
   "nbconvert_exporter": "python",
   "pygments_lexer": "ipython3",
   "version": "3.10.16"
  }
 },
 "nbformat": 4,
 "nbformat_minor": 2
}
